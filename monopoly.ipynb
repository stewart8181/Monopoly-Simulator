{
 "cells": [
  {
   "cell_type": "code",
   "execution_count": 9,
   "id": "3fe58df6",
   "metadata": {},
   "outputs": [],
   "source": [
    "import random\n",
    "\n",
    "class Dice:\n",
    "    def rollDice():\n",
    "        return random.randint(1, 6)"
   ]
  },
  {
   "cell_type": "code",
   "execution_count": 10,
   "id": "47f6b83e",
   "metadata": {},
   "outputs": [],
   "source": [
    "class Cell:\n",
    "    def __init__(self, title, position, colour, value, cellType, trigger):\n",
    "        self.title = title\n",
    "        self.position = position\n",
    "        self.colour = colour\n",
    "        self.value = value\n",
    "        cellType = cellType\n",
    "        self.trigger = trigger"
   ]
  },
  {
   "cell_type": "code",
   "execution_count": 11,
   "id": "40cc07cb",
   "metadata": {},
   "outputs": [],
   "source": [
    "class Board:\n",
    "    def __init__(self):\n",
    "        self.boardPieces = []\n",
    "        \n",
    "    def init_board(self):\n",
    "        piecesFile = open('Mono.txt', 'r')\n",
    "        pieces = piecesFile.readlines()\n",
    "        \n",
    "        for piece in pieces:\n",
    "            newPiece = piece.split(';')\n",
    "            pieceTitle = newPiece[0]\n",
    "            piecePos = int(newPiece[1])\n",
    "            pieceColour = newPiece[2]\n",
    "            pieceValue = int(newPiece[3])\n",
    "            pieceType = newPiece[4]\n",
    "            pieceTrigger = newPiece[5]\n",
    "            \n",
    "            newCell = Cell(pieceTitle, piecePos, pieceColour, pieceValue, pieceType, pieceTrigger)\n",
    "            self.boardPieces.append(newCell)\n",
    "    \n",
    "    def get_piece_colour(self, playerPos):\n",
    "        return self.boardPieces[playerPos].colour\n",
    "    \n",
    "      \n",
    "             \n",
    "    "
   ]
  },
  {
   "cell_type": "code",
   "execution_count": 12,
   "id": "f9747d92",
   "metadata": {},
   "outputs": [],
   "source": [
    "class Player:\n",
    "    def __init__(self, playerName):\n",
    "        self.name = playerName\n",
    "        self.Pos = 0\n",
    "        self.inJail = False\n",
    "    \n",
    "    def move_player(diceRoll):\n",
    "        self.Pos = (self.Pos + diceRoll) % 40\n",
    "    \n",
    "        "
   ]
  },
  {
   "cell_type": "code",
   "execution_count": 13,
   "id": "9edc4daf",
   "metadata": {
    "scrolled": false
   },
   "outputs": [],
   "source": [
    "class CommunityChest:\n",
    "    pass"
   ]
  },
  {
   "cell_type": "code",
   "execution_count": 14,
   "id": "074410f2",
   "metadata": {},
   "outputs": [],
   "source": [
    "class Chance:\n",
    "    pass"
   ]
  },
  {
   "cell_type": "markdown",
   "id": "dbe23f37",
   "metadata": {},
   "source": [
    "Code to actually set up an instance of the game and have it play"
   ]
  },
  {
   "cell_type": "code",
   "execution_count": 15,
   "id": "abdebf06",
   "metadata": {},
   "outputs": [
    {
     "name": "stdout",
     "output_type": "stream",
     "text": [
      "0\n",
      "0\n",
      "0\n",
      "0\n",
      "0\n",
      "0\n",
      "0\n",
      "0\n"
     ]
    }
   ],
   "source": [
    "#Firstly create 4 players to play the game\n",
    "\n",
    "thePlayers = []\n",
    "\n",
    "playerOne = Player(\"Bob\")\n",
    "playerTwo = Player(\"Jim\")\n",
    "playerThree = Player(\"George\")\n",
    "playerFour = Player(\"Sarah\")\n",
    "\n",
    "print(playerOne.Pos)\n",
    "print(playerTwo.Pos)\n",
    "print(playerThree.Pos)\n",
    "print(playerFour.Pos)\n",
    "\n",
    "thePlayers.append(playerOne)\n",
    "thePlayers.append(playerTwo)\n",
    "thePlayers.append(playerThree)\n",
    "thePlayers.append(playerFour)\n",
    "\n",
    "for aPlayer in thePlayers:\n",
    "    print(aPlayer.Pos)\n",
    "\n"
   ]
  },
  {
   "cell_type": "code",
   "execution_count": 16,
   "id": "93ac1076",
   "metadata": {},
   "outputs": [],
   "source": [
    "# Create an instance of the board\n",
    "\n",
    "myBoard = Board()\n",
    "myBoard.init_board()\n"
   ]
  },
  {
   "cell_type": "code",
   "execution_count": 17,
   "id": "3be84c1e",
   "metadata": {},
   "outputs": [],
   "source": [
    "#Create the dice to be used in the game\n",
    "myDice = Dice"
   ]
  },
  {
   "cell_type": "code",
   "execution_count": 18,
   "id": "63a34dfc",
   "metadata": {},
   "outputs": [
    {
     "name": "stdout",
     "output_type": "stream",
     "text": [
      "11\n",
      "Dice One roll is 5\n",
      "Dice two roll is 6\n"
     ]
    },
    {
     "ename": "TypeError",
     "evalue": "move_player() takes 1 positional argument but 2 were given",
     "output_type": "error",
     "traceback": [
      "\u001b[1;31m---------------------------------------------------------------------------\u001b[0m",
      "\u001b[1;31mTypeError\u001b[0m                                 Traceback (most recent call last)",
      "\u001b[1;32m~\\AppData\\Local\\Temp\\ipykernel_3988\\2817635430.py\u001b[0m in \u001b[0;36m<module>\u001b[1;34m\u001b[0m\n\u001b[0;32m     12\u001b[0m         \u001b[0mprint\u001b[0m\u001b[1;33m(\u001b[0m\u001b[1;34m\"Dice One roll is {0}\"\u001b[0m\u001b[1;33m.\u001b[0m\u001b[0mformat\u001b[0m\u001b[1;33m(\u001b[0m\u001b[0mdiceOne\u001b[0m\u001b[1;33m)\u001b[0m\u001b[1;33m)\u001b[0m\u001b[1;33m\u001b[0m\u001b[1;33m\u001b[0m\u001b[0m\n\u001b[0;32m     13\u001b[0m         \u001b[0mprint\u001b[0m\u001b[1;33m(\u001b[0m\u001b[1;34m\"Dice two roll is {0}\"\u001b[0m\u001b[1;33m.\u001b[0m\u001b[0mformat\u001b[0m\u001b[1;33m(\u001b[0m\u001b[0mdiceTwo\u001b[0m\u001b[1;33m)\u001b[0m\u001b[1;33m)\u001b[0m\u001b[1;33m\u001b[0m\u001b[1;33m\u001b[0m\u001b[0m\n\u001b[1;32m---> 14\u001b[1;33m         \u001b[0maPlayer\u001b[0m\u001b[1;33m.\u001b[0m\u001b[0mmove_player\u001b[0m\u001b[1;33m(\u001b[0m\u001b[0mtotalRoll\u001b[0m\u001b[1;33m)\u001b[0m\u001b[1;33m\u001b[0m\u001b[1;33m\u001b[0m\u001b[0m\n\u001b[0m\u001b[0;32m     15\u001b[0m         \u001b[0mprint\u001b[0m\u001b[1;33m(\u001b[0m\u001b[1;34m\"The position of {0} is board piece {1}\"\u001b[0m\u001b[1;33m.\u001b[0m\u001b[0mformat\u001b[0m\u001b[1;33m(\u001b[0m\u001b[0maPlayer\u001b[0m\u001b[1;33m.\u001b[0m\u001b[0mname\u001b[0m\u001b[1;33m,\u001b[0m \u001b[0maPlayer\u001b[0m\u001b[1;33m.\u001b[0m\u001b[0mPos\u001b[0m\u001b[1;33m)\u001b[0m\u001b[1;33m)\u001b[0m\u001b[1;33m\u001b[0m\u001b[1;33m\u001b[0m\u001b[0m\n\u001b[0;32m     16\u001b[0m         \u001b[0mprint\u001b[0m\u001b[1;33m(\u001b[0m\u001b[1;34m\" \"\u001b[0m\u001b[1;33m)\u001b[0m\u001b[1;33m\u001b[0m\u001b[1;33m\u001b[0m\u001b[0m\n",
      "\u001b[1;31mTypeError\u001b[0m: move_player() takes 1 positional argument but 2 were given"
     ]
    }
   ],
   "source": [
    "#Loop through players each rolling a dice and updating their board position\n",
    "#Test with 10 dice rolls each\n",
    "\n",
    "for x in range(10):\n",
    "    for aPlayer in thePlayers:\n",
    "        \n",
    "        diceOne = myDice.rollDice()\n",
    "        diceTwo = myDice.rollDice()\n",
    "        totalRoll = diceOne + diceTwo\n",
    "        print(totalRoll)\n",
    "        \n",
    "        print(\"Dice One roll is {0}\".format(diceOne))\n",
    "        print(\"Dice two roll is {0}\".format(diceTwo))\n",
    "        aPlayer.move_player(totalRoll)\n",
    "        print(\"The position of {0} is board piece {1}\".format(aPlayer.name, aPlayer.Pos))\n",
    "        print(\" \")\n",
    "        "
   ]
  }
 ],
 "metadata": {
  "kernelspec": {
   "display_name": "Python 3 (ipykernel)",
   "language": "python",
   "name": "python3"
  },
  "language_info": {
   "codemirror_mode": {
    "name": "ipython",
    "version": 3
   },
   "file_extension": ".py",
   "mimetype": "text/x-python",
   "name": "python",
   "nbconvert_exporter": "python",
   "pygments_lexer": "ipython3",
   "version": "3.9.13"
  }
 },
 "nbformat": 4,
 "nbformat_minor": 5
}
