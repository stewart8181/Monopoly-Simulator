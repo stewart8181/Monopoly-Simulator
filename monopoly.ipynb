{
 "cells": [
  {
   "cell_type": "code",
   "execution_count": 1,
   "id": "3fe58df6",
   "metadata": {},
   "outputs": [],
   "source": [
    "import random\n",
    "\n",
    "class Dice:\n",
    "    def rollDice():\n",
    "        return random.randint(1, 6)"
   ]
  },
  {
   "cell_type": "code",
   "execution_count": 2,
   "id": "47f6b83e",
   "metadata": {},
   "outputs": [],
   "source": [
    "class Cell:\n",
    "    def __init__(self, title, position, colour, value, cellType, trigger):\n",
    "        self.title = title\n",
    "        self.position = position\n",
    "        self.colour = colour\n",
    "        self.value = value\n",
    "        cellType = cellType\n",
    "        self.trigger = trigger"
   ]
  },
  {
   "cell_type": "code",
   "execution_count": 19,
   "id": "40cc07cb",
   "metadata": {},
   "outputs": [],
   "source": [
    "class Board:\n",
    "    def __init__(self):\n",
    "        self.boardPieces = []\n",
    "        \n",
    "    def init_board(self):\n",
    "        piecesFile = open('Mono.txt', 'r')\n",
    "        pieces = piecesFile.readlines()\n",
    "        \n",
    "        for piece in pieces:\n",
    "            newPiece = piece.split(';')\n",
    "            pieceTitle = newPiece[0]\n",
    "            piecePos = int(newPiece[1])\n",
    "            pieceColour = newPiece[2]\n",
    "            pieceValue = int(newPiece[3])\n",
    "            pieceType = newPiece[4]\n",
    "            pieceTrigger = newPiece[5]\n",
    "            \n",
    "            newCell = Cell(pieceTitle, piecePos, pieceColour, pieceValue, pieceType, pieceTrigger)\n",
    "            self.boardPieces.append(newCell)\n",
    "    \n",
    "    def get_piece_colour(self, playerPos):\n",
    "        return self.boardPieces[playerPos].colour\n",
    "    \n",
    "    def move_player_pos(self, playerPos, diceRoll):\n",
    "        for x in range(1, diceRoll + 1):\n",
    "            if playerPos == 39:\n",
    "                playerPos = 0\n",
    "            else:\n",
    "                playerPos = playerPos + 1\n",
    "                \n",
    "        return playerPos      \n",
    "    "
   ]
  },
  {
   "cell_type": "code",
   "execution_count": 40,
   "id": "f9747d92",
   "metadata": {},
   "outputs": [],
   "source": [
    "class Player:\n",
    "    def __init__(self, playerName):\n",
    "        self.name = playerName\n",
    "        self.Pos = 0\n",
    "        self.inJail = False\n",
    "        "
   ]
  },
  {
   "cell_type": "code",
   "execution_count": 20,
   "id": "9edc4daf",
   "metadata": {
    "scrolled": false
   },
   "outputs": [
    {
     "ename": "SyntaxError",
     "evalue": "invalid syntax (3579868168.py, line 1)",
     "output_type": "error",
     "traceback": [
      "\u001b[1;36m  File \u001b[1;32m\"C:\\Users\\stewartM\\AppData\\Local\\Temp\\ipykernel_16740\\3579868168.py\"\u001b[1;36m, line \u001b[1;32m1\u001b[0m\n\u001b[1;33m    class CommunityChest\u001b[0m\n\u001b[1;37m                        ^\u001b[0m\n\u001b[1;31mSyntaxError\u001b[0m\u001b[1;31m:\u001b[0m invalid syntax\n"
     ]
    }
   ],
   "source": [
    "class CommunityChest:"
   ]
  },
  {
   "cell_type": "code",
   "execution_count": null,
   "id": "074410f2",
   "metadata": {},
   "outputs": [],
   "source": [
    "class Chance:"
   ]
  },
  {
   "cell_type": "markdown",
   "id": "7ba3bfbd",
   "metadata": {},
   "source": [
    "Code to actually set up an instance of the game and have it play"
   ]
  },
  {
   "cell_type": "code",
   "execution_count": 42,
   "id": "438b96bc",
   "metadata": {},
   "outputs": [],
   "source": [
    "#Firstly create 4 players to play the game\n",
    "\n",
    "thePlayers = []\n",
    "\n",
    "playerOne = Player(\"Bob\")\n",
    "playerTwo = Player(\"Jim\")\n",
    "playerThree = Player(\"George\")\n",
    "playerFour = Player(\"Sarah\")\n",
    "\n",
    "thePlayers.append(playerOne)\n",
    "thePlayers.append(playerTwo)\n",
    "thePlayers.append(playerThree)\n",
    "thePlayers.append(playerFour)\n"
   ]
  },
  {
   "cell_type": "code",
   "execution_count": 43,
   "id": "5ff4291b",
   "metadata": {},
   "outputs": [],
   "source": [
    "# Create an instance of the board\n",
    "\n",
    "myBoard = Board()\n",
    "myBoard.init_board()\n"
   ]
  },
  {
   "cell_type": "code",
   "execution_count": null,
   "id": "fe720940",
   "metadata": {},
   "outputs": [],
   "source": [
    "#Create the dice to be used in the game\n",
    "myDice = Dice"
   ]
  },
  {
   "cell_type": "code",
   "execution_count": 50,
   "id": "f4702f90",
   "metadata": {},
   "outputs": [
    {
     "name": "stdout",
     "output_type": "stream",
     "text": [
      "Dice One roll is 2\n",
      "Dice two roll is 3\n",
      "The position of Bob is board piece 31\n",
      " \n",
      "Dice One roll is 4\n",
      "Dice two roll is 6\n",
      "The position of Jim is board piece 0\n",
      " \n",
      "Dice One roll is 5\n",
      "Dice two roll is 3\n",
      "The position of George is board piece 29\n",
      " \n",
      "Dice One roll is 4\n",
      "Dice two roll is 1\n",
      "The position of Sarah is board piece 7\n",
      " \n",
      "Dice One roll is 3\n",
      "Dice two roll is 2\n",
      "The position of Bob is board piece 36\n",
      " \n",
      "Dice One roll is 3\n",
      "Dice two roll is 4\n",
      "The position of Jim is board piece 5\n",
      " \n",
      "Dice One roll is 1\n",
      "Dice two roll is 3\n",
      "The position of George is board piece 34\n",
      " \n",
      "Dice One roll is 1\n",
      "Dice two roll is 3\n",
      "The position of Sarah is board piece 12\n",
      " \n",
      "Dice One roll is 2\n",
      "Dice two roll is 6\n",
      "The position of Bob is board piece 1\n",
      " \n",
      "Dice One roll is 4\n",
      "Dice two roll is 5\n",
      "The position of Jim is board piece 10\n",
      " \n",
      "Dice One roll is 5\n",
      "Dice two roll is 6\n",
      "The position of George is board piece 39\n",
      " \n",
      "Dice One roll is 6\n",
      "Dice two roll is 4\n",
      "The position of Sarah is board piece 17\n",
      " \n",
      "Dice One roll is 2\n",
      "Dice two roll is 6\n",
      "The position of Bob is board piece 6\n",
      " \n",
      "Dice One roll is 3\n",
      "Dice two roll is 5\n",
      "The position of Jim is board piece 15\n",
      " \n",
      "Dice One roll is 6\n",
      "Dice two roll is 1\n",
      "The position of George is board piece 4\n",
      " \n",
      "Dice One roll is 3\n",
      "Dice two roll is 2\n",
      "The position of Sarah is board piece 22\n",
      " \n",
      "Dice One roll is 1\n",
      "Dice two roll is 6\n",
      "The position of Bob is board piece 11\n",
      " \n",
      "Dice One roll is 5\n",
      "Dice two roll is 5\n",
      "The position of Jim is board piece 20\n",
      " \n",
      "Dice One roll is 4\n",
      "Dice two roll is 1\n",
      "The position of George is board piece 9\n",
      " \n",
      "Dice One roll is 1\n",
      "Dice two roll is 1\n",
      "The position of Sarah is board piece 27\n",
      " \n",
      "Dice One roll is 2\n",
      "Dice two roll is 6\n",
      "The position of Bob is board piece 16\n",
      " \n",
      "Dice One roll is 3\n",
      "Dice two roll is 6\n",
      "The position of Jim is board piece 25\n",
      " \n",
      "Dice One roll is 4\n",
      "Dice two roll is 6\n",
      "The position of George is board piece 14\n",
      " \n",
      "Dice One roll is 6\n",
      "Dice two roll is 6\n",
      "The position of Sarah is board piece 32\n",
      " \n",
      "Dice One roll is 3\n",
      "Dice two roll is 2\n",
      "The position of Bob is board piece 21\n",
      " \n",
      "Dice One roll is 2\n",
      "Dice two roll is 4\n",
      "The position of Jim is board piece 30\n",
      " \n",
      "Dice One roll is 4\n",
      "Dice two roll is 5\n",
      "The position of George is board piece 19\n",
      " \n",
      "Dice One roll is 4\n",
      "Dice two roll is 6\n",
      "The position of Sarah is board piece 37\n",
      " \n",
      "Dice One roll is 6\n",
      "Dice two roll is 4\n",
      "The position of Bob is board piece 26\n",
      " \n",
      "Dice One roll is 6\n",
      "Dice two roll is 4\n",
      "The position of Jim is board piece 35\n",
      " \n",
      "Dice One roll is 4\n",
      "Dice two roll is 1\n",
      "The position of George is board piece 24\n",
      " \n",
      "Dice One roll is 4\n",
      "Dice two roll is 1\n",
      "The position of Sarah is board piece 2\n",
      " \n",
      "Dice One roll is 3\n",
      "Dice two roll is 6\n",
      "The position of Bob is board piece 31\n",
      " \n",
      "Dice One roll is 3\n",
      "Dice two roll is 5\n",
      "The position of Jim is board piece 0\n",
      " \n",
      "Dice One roll is 4\n",
      "Dice two roll is 4\n",
      "The position of George is board piece 29\n",
      " \n",
      "Dice One roll is 5\n",
      "Dice two roll is 4\n",
      "The position of Sarah is board piece 7\n",
      " \n",
      "Dice One roll is 6\n",
      "Dice two roll is 5\n",
      "The position of Bob is board piece 36\n",
      " \n",
      "Dice One roll is 5\n",
      "Dice two roll is 3\n",
      "The position of Jim is board piece 5\n",
      " \n",
      "Dice One roll is 4\n",
      "Dice two roll is 2\n",
      "The position of George is board piece 34\n",
      " \n",
      "Dice One roll is 1\n",
      "Dice two roll is 3\n",
      "The position of Sarah is board piece 12\n",
      " \n"
     ]
    }
   ],
   "source": [
    "#Loop through players each rolling a dice and updating their board position\n",
    "#Test with 10 dice rolls each\n",
    "\n",
    "for x in range(10):\n",
    "    for aPlayer in thePlayers:\n",
    "        \n",
    "        diceOne = myDice.rollDice()\n",
    "        diceTwo = myDice.rollDice()\n",
    "        \n",
    "        print(\"Dice One roll is {0}\".format(diceOne))\n",
    "        print(\"Dice two roll is {0}\".format(diceTwo))\n",
    "        aPlayer.Pos = myBoard.move_player_pos(aPlayer.Pos, 5)\n",
    "        print(\"The position of {0} is board piece {1}\".format(aPlayer.name, aPlayer.Pos))\n",
    "        print(\" \")\n",
    "        "
   ]
  },
  {
   "cell_type": "code",
   "execution_count": 37,
   "id": "9b45aca4",
   "metadata": {},
   "outputs": [
    {
     "data": {
      "text/plain": [
       "2"
      ]
     },
     "execution_count": 37,
     "metadata": {},
     "output_type": "execute_result"
    }
   ],
   "source": []
  }
 ],
 "metadata": {
  "kernelspec": {
   "display_name": "Python 3 (ipykernel)",
   "language": "python",
   "name": "python3"
  },
  "language_info": {
   "codemirror_mode": {
    "name": "ipython",
    "version": 3
   },
   "file_extension": ".py",
   "mimetype": "text/x-python",
   "name": "python",
   "nbconvert_exporter": "python",
   "pygments_lexer": "ipython3",
   "version": "3.9.13"
  }
 },
 "nbformat": 4,
 "nbformat_minor": 5
}
